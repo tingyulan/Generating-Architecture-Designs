{
  "nbformat": 4,
  "nbformat_minor": 0,
  "metadata": {
    "colab": {
      "name": "run_Betty.ipynb",
      "provenance": [],
      "collapsed_sections": [],
      "machine_shape": "hm"
    },
    "kernelspec": {
      "name": "python3",
      "display_name": "Python 3"
    },
    "language_info": {
      "name": "python"
    },
    "accelerator": "GPU"
  },
  "cells": [
    {
      "cell_type": "code",
      "metadata": {
        "id": "EH7D9ReIXo3D"
      },
      "source": [
        "from google.colab import drive\n",
        "drive.mount('/content/drive')\n",
        "\n",
        "%cd '/content/drive/MyDrive/Deep Learning - Final Project'"
      ],
      "execution_count": null,
      "outputs": []
    },
    {
      "cell_type": "code",
      "metadata": {
        "id": "JGj588NdbVxD"
      },
      "source": [
        "!pip install tensorboardX\n",
        "!pip install tensorboard"
      ],
      "execution_count": null,
      "outputs": []
    },
    {
      "cell_type": "markdown",
      "metadata": {
        "id": "692mfzVPC6yz"
      },
      "source": [
        "Train Self-Rconstruction stage"
      ]
    },
    {
      "cell_type": "code",
      "metadata": {
        "id": "6K2Jmp_ehrbf"
      },
      "source": [
        "!python3 train_SR.py --load_pretrain True --load_weight_dir './weights_pretrained/' --epoch 50 --test_flag True --train_data_dir './data/train/' --test_data_dir './data/dev/' --train_batch_size 4 --test_batch_size 4"
      ],
      "execution_count": null,
      "outputs": []
    },
    {
      "cell_type": "markdown",
      "metadata": {
        "id": "sS0VTqLlDBNH"
      },
      "source": [
        "Train Fine-Tuning stage"
      ]
    },
    {
      "cell_type": "code",
      "metadata": {
        "id": "xmt3LSJ3aq3U"
      },
      "source": [
        "!python train_FT.py --load_pretrain True --load_weight_dir './checkpoints/SR_Stage/' --epoch 50 --train_data_dir './data/train/' --test_data_dir './data/dev/' --rand_pair True --test_flag True --train_batch_size 4 --test_batch_size 4"
      ],
      "execution_count": null,
      "outputs": []
    },
    {
      "cell_type": "markdown",
      "metadata": {
        "id": "XzQdWfJIYyRw"
      },
      "source": [
        "Test"
      ]
    },
    {
      "cell_type": "code",
      "metadata": {
        "id": "L4s2il7KcfOO"
      },
      "source": [
        "!python test.py --load_weight_dir './checkpoints/FT_Stage/' --test_data_dir_1 './data/test/input1' --test_data_dir_2 './data/test/input2' --save_dir './results/file_name'"
      ],
      "execution_count": null,
      "outputs": []
    }
  ]
}